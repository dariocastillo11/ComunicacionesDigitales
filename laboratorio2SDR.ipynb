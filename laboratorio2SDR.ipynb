{
  "cells": [
    {
      "cell_type": "markdown",
      "metadata": {
        "id": "view-in-github",
        "colab_type": "text"
      },
      "source": [
        "<a href=\"https://colab.research.google.com/github/dariocastillo11/ComunicacionesDigitales/blob/main/laboratorio2SDR.ipynb\" target=\"_parent\"><img src=\"https://colab.research.google.com/assets/colab-badge.svg\" alt=\"Open In Colab\"/></a>"
      ]
    },
    {
      "cell_type": "code",
      "execution_count": 1,
      "id": "64d62756",
      "metadata": {
        "id": "64d62756"
      },
      "outputs": [],
      "source": [
        "#---------------------------------------------------------------------------------\n",
        "#Project     : lABORTORIO N° 2 Caracterización del ruido del\n",
        "#                               canal inhalámbrico.\n",
        "# Authors    : Castillo, Darío Alberto\n",
        "# E-mail     : dario.castillo@mi.unc.edu.ar\n",
        "#---------------------------------------------------------------------------------"
      ]
    },
    {
      "cell_type": "code",
      "execution_count": 5,
      "id": "215cf6d1",
      "metadata": {
        "scrolled": true,
        "colab": {
          "base_uri": "https://localhost:8080/",
          "height": 408
        },
        "id": "215cf6d1",
        "outputId": "8f490e87-be58-46d1-fee4-9f384d8372ee"
      },
      "outputs": [
        {
          "output_type": "stream",
          "name": "stdout",
          "text": [
            "Requirement already satisfied: pyadi-iio in /usr/local/lib/python3.11/dist-packages (0.0.19)\n",
            "Requirement already satisfied: numpy>=1.20 in /usr/local/lib/python3.11/dist-packages (from pyadi-iio) (2.0.2)\n",
            "Requirement already satisfied: pylibiio>=0.25 in /usr/local/lib/python3.11/dist-packages (from pyadi-iio) (0.25)\n"
          ]
        },
        {
          "output_type": "error",
          "ename": "AttributeError",
          "evalue": "/usr/bin/python3: undefined symbol: iio_get_backends_count",
          "traceback": [
            "\u001b[0;31m---------------------------------------------------------------------------\u001b[0m",
            "\u001b[0;31mAttributeError\u001b[0m                            Traceback (most recent call last)",
            "\u001b[0;32m<ipython-input-5-940e8f0c0e75>\u001b[0m in \u001b[0;36m<cell line: 0>\u001b[0;34m()\u001b[0m\n\u001b[1;32m      1\u001b[0m \u001b[0mget_ipython\u001b[0m\u001b[0;34m(\u001b[0m\u001b[0;34m)\u001b[0m\u001b[0;34m.\u001b[0m\u001b[0msystem\u001b[0m\u001b[0;34m(\u001b[0m\u001b[0;34m'pip install pyadi-iio'\u001b[0m\u001b[0;34m)\u001b[0m\u001b[0;34m\u001b[0m\u001b[0;34m\u001b[0m\u001b[0m\n\u001b[0;32m----> 2\u001b[0;31m \u001b[0;32mimport\u001b[0m \u001b[0madi\u001b[0m\u001b[0;34m\u001b[0m\u001b[0;34m\u001b[0m\u001b[0m\n\u001b[0m\u001b[1;32m      3\u001b[0m \u001b[0mget_ipython\u001b[0m\u001b[0;34m(\u001b[0m\u001b[0;34m)\u001b[0m\u001b[0;34m.\u001b[0m\u001b[0msystem\u001b[0m\u001b[0;34m(\u001b[0m\u001b[0;34m'pip install matplotlib'\u001b[0m\u001b[0;34m)\u001b[0m\u001b[0;34m\u001b[0m\u001b[0;34m\u001b[0m\u001b[0m\n\u001b[1;32m      4\u001b[0m \u001b[0mget_ipython\u001b[0m\u001b[0;34m(\u001b[0m\u001b[0;34m)\u001b[0m\u001b[0;34m.\u001b[0m\u001b[0msystem\u001b[0m\u001b[0;34m(\u001b[0m\u001b[0;34m'pip install scikit-dsp-comm'\u001b[0m\u001b[0;34m)\u001b[0m\u001b[0;34m\u001b[0m\u001b[0;34m\u001b[0m\u001b[0m\n\u001b[1;32m      5\u001b[0m \u001b[0mget_ipython\u001b[0m\u001b[0;34m(\u001b[0m\u001b[0;34m)\u001b[0m\u001b[0;34m.\u001b[0m\u001b[0msystem\u001b[0m\u001b[0;34m(\u001b[0m\u001b[0;34m'pip install scikit-commpy'\u001b[0m\u001b[0;34m)\u001b[0m\u001b[0;34m\u001b[0m\u001b[0;34m\u001b[0m\u001b[0m\n",
            "\u001b[0;32m/usr/local/lib/python3.11/dist-packages/adi/__init__.py\u001b[0m in \u001b[0;36m<module>\u001b[0;34m\u001b[0m\n\u001b[1;32m      3\u001b[0m \u001b[0;31m# SPDX short identifier: ADIBSD\u001b[0m\u001b[0;34m\u001b[0m\u001b[0;34m\u001b[0m\u001b[0m\n\u001b[1;32m      4\u001b[0m \u001b[0;34m\u001b[0m\u001b[0m\n\u001b[0;32m----> 5\u001b[0;31m \u001b[0;32mfrom\u001b[0m \u001b[0madi\u001b[0m\u001b[0;34m.\u001b[0m\u001b[0mad2s1210\u001b[0m \u001b[0;32mimport\u001b[0m \u001b[0mad2s1210\u001b[0m\u001b[0;34m\u001b[0m\u001b[0;34m\u001b[0m\u001b[0m\n\u001b[0m\u001b[1;32m      6\u001b[0m \u001b[0;32mfrom\u001b[0m \u001b[0madi\u001b[0m\u001b[0;34m.\u001b[0m\u001b[0mad405x\u001b[0m \u001b[0;32mimport\u001b[0m \u001b[0mad405x\u001b[0m\u001b[0;34m\u001b[0m\u001b[0;34m\u001b[0m\u001b[0m\n\u001b[1;32m      7\u001b[0m \u001b[0;32mfrom\u001b[0m \u001b[0madi\u001b[0m\u001b[0;34m.\u001b[0m\u001b[0mad469x\u001b[0m \u001b[0;32mimport\u001b[0m \u001b[0mad469x\u001b[0m\u001b[0;34m\u001b[0m\u001b[0;34m\u001b[0m\u001b[0m\n",
            "\u001b[0;32m/usr/local/lib/python3.11/dist-packages/adi/ad2s1210.py\u001b[0m in \u001b[0;36m<module>\u001b[0;34m\u001b[0m\n\u001b[1;32m      4\u001b[0m \u001b[0;34m\u001b[0m\u001b[0m\n\u001b[1;32m      5\u001b[0m \u001b[0;32mfrom\u001b[0m \u001b[0madi\u001b[0m\u001b[0;34m.\u001b[0m\u001b[0mattribute\u001b[0m \u001b[0;32mimport\u001b[0m \u001b[0mattribute\u001b[0m\u001b[0;34m\u001b[0m\u001b[0;34m\u001b[0m\u001b[0m\n\u001b[0;32m----> 6\u001b[0;31m \u001b[0;32mfrom\u001b[0m \u001b[0madi\u001b[0m\u001b[0;34m.\u001b[0m\u001b[0mcontext_manager\u001b[0m \u001b[0;32mimport\u001b[0m \u001b[0mcontext_manager\u001b[0m\u001b[0;34m\u001b[0m\u001b[0;34m\u001b[0m\u001b[0m\n\u001b[0m\u001b[1;32m      7\u001b[0m \u001b[0;32mfrom\u001b[0m \u001b[0madi\u001b[0m\u001b[0;34m.\u001b[0m\u001b[0mrx_tx\u001b[0m \u001b[0;32mimport\u001b[0m \u001b[0mrx\u001b[0m\u001b[0;34m\u001b[0m\u001b[0;34m\u001b[0m\u001b[0m\n\u001b[1;32m      8\u001b[0m \u001b[0;34m\u001b[0m\u001b[0m\n",
            "\u001b[0;32m/usr/local/lib/python3.11/dist-packages/adi/context_manager.py\u001b[0m in \u001b[0;36m<module>\u001b[0;34m\u001b[0m\n\u001b[1;32m      3\u001b[0m \u001b[0;31m# SPDX short identifier: ADIBSD\u001b[0m\u001b[0;34m\u001b[0m\u001b[0;34m\u001b[0m\u001b[0m\n\u001b[1;32m      4\u001b[0m \u001b[0;34m\u001b[0m\u001b[0m\n\u001b[0;32m----> 5\u001b[0;31m \u001b[0;32mimport\u001b[0m \u001b[0miio\u001b[0m\u001b[0;34m\u001b[0m\u001b[0;34m\u001b[0m\u001b[0m\n\u001b[0m\u001b[1;32m      6\u001b[0m \u001b[0;34m\u001b[0m\u001b[0m\n\u001b[1;32m      7\u001b[0m \u001b[0;34m\u001b[0m\u001b[0m\n",
            "\u001b[0;32m/usr/local/lib/python3.11/dist-packages/iio.py\u001b[0m in \u001b[0;36m<module>\u001b[0;34m\u001b[0m\n\u001b[1;32m    227\u001b[0m \u001b[0m_lib\u001b[0m \u001b[0;34m=\u001b[0m \u001b[0m_cdll\u001b[0m\u001b[0;34m(\u001b[0m\u001b[0mfind_library\u001b[0m\u001b[0;34m(\u001b[0m\u001b[0m_iiolib\u001b[0m\u001b[0;34m)\u001b[0m\u001b[0;34m,\u001b[0m \u001b[0muse_errno\u001b[0m\u001b[0;34m=\u001b[0m\u001b[0;32mTrue\u001b[0m\u001b[0;34m,\u001b[0m \u001b[0muse_last_error\u001b[0m\u001b[0;34m=\u001b[0m\u001b[0;32mTrue\u001b[0m\u001b[0;34m)\u001b[0m\u001b[0;34m\u001b[0m\u001b[0;34m\u001b[0m\u001b[0m\n\u001b[1;32m    228\u001b[0m \u001b[0;34m\u001b[0m\u001b[0m\n\u001b[0;32m--> 229\u001b[0;31m \u001b[0m_get_backends_count\u001b[0m \u001b[0;34m=\u001b[0m \u001b[0m_lib\u001b[0m\u001b[0;34m.\u001b[0m\u001b[0miio_get_backends_count\u001b[0m\u001b[0;34m\u001b[0m\u001b[0;34m\u001b[0m\u001b[0m\n\u001b[0m\u001b[1;32m    230\u001b[0m \u001b[0m_get_backends_count\u001b[0m\u001b[0;34m.\u001b[0m\u001b[0mrestype\u001b[0m \u001b[0;34m=\u001b[0m \u001b[0mc_uint\u001b[0m\u001b[0;34m\u001b[0m\u001b[0;34m\u001b[0m\u001b[0m\n\u001b[1;32m    231\u001b[0m \u001b[0;34m\u001b[0m\u001b[0m\n",
            "\u001b[0;32m/usr/lib/python3.11/ctypes/__init__.py\u001b[0m in \u001b[0;36m__getattr__\u001b[0;34m(self, name)\u001b[0m\n\u001b[1;32m    387\u001b[0m         \u001b[0;32mif\u001b[0m \u001b[0mname\u001b[0m\u001b[0;34m.\u001b[0m\u001b[0mstartswith\u001b[0m\u001b[0;34m(\u001b[0m\u001b[0;34m'__'\u001b[0m\u001b[0;34m)\u001b[0m \u001b[0;32mand\u001b[0m \u001b[0mname\u001b[0m\u001b[0;34m.\u001b[0m\u001b[0mendswith\u001b[0m\u001b[0;34m(\u001b[0m\u001b[0;34m'__'\u001b[0m\u001b[0;34m)\u001b[0m\u001b[0;34m:\u001b[0m\u001b[0;34m\u001b[0m\u001b[0;34m\u001b[0m\u001b[0m\n\u001b[1;32m    388\u001b[0m             \u001b[0;32mraise\u001b[0m \u001b[0mAttributeError\u001b[0m\u001b[0;34m(\u001b[0m\u001b[0mname\u001b[0m\u001b[0;34m)\u001b[0m\u001b[0;34m\u001b[0m\u001b[0;34m\u001b[0m\u001b[0m\n\u001b[0;32m--> 389\u001b[0;31m         \u001b[0mfunc\u001b[0m \u001b[0;34m=\u001b[0m \u001b[0mself\u001b[0m\u001b[0;34m.\u001b[0m\u001b[0m__getitem__\u001b[0m\u001b[0;34m(\u001b[0m\u001b[0mname\u001b[0m\u001b[0;34m)\u001b[0m\u001b[0;34m\u001b[0m\u001b[0;34m\u001b[0m\u001b[0m\n\u001b[0m\u001b[1;32m    390\u001b[0m         \u001b[0msetattr\u001b[0m\u001b[0;34m(\u001b[0m\u001b[0mself\u001b[0m\u001b[0;34m,\u001b[0m \u001b[0mname\u001b[0m\u001b[0;34m,\u001b[0m \u001b[0mfunc\u001b[0m\u001b[0;34m)\u001b[0m\u001b[0;34m\u001b[0m\u001b[0;34m\u001b[0m\u001b[0m\n\u001b[1;32m    391\u001b[0m         \u001b[0;32mreturn\u001b[0m \u001b[0mfunc\u001b[0m\u001b[0;34m\u001b[0m\u001b[0;34m\u001b[0m\u001b[0m\n",
            "\u001b[0;32m/usr/lib/python3.11/ctypes/__init__.py\u001b[0m in \u001b[0;36m__getitem__\u001b[0;34m(self, name_or_ordinal)\u001b[0m\n\u001b[1;32m    392\u001b[0m \u001b[0;34m\u001b[0m\u001b[0m\n\u001b[1;32m    393\u001b[0m     \u001b[0;32mdef\u001b[0m \u001b[0m__getitem__\u001b[0m\u001b[0;34m(\u001b[0m\u001b[0mself\u001b[0m\u001b[0;34m,\u001b[0m \u001b[0mname_or_ordinal\u001b[0m\u001b[0;34m)\u001b[0m\u001b[0;34m:\u001b[0m\u001b[0;34m\u001b[0m\u001b[0;34m\u001b[0m\u001b[0m\n\u001b[0;32m--> 394\u001b[0;31m         \u001b[0mfunc\u001b[0m \u001b[0;34m=\u001b[0m \u001b[0mself\u001b[0m\u001b[0;34m.\u001b[0m\u001b[0m_FuncPtr\u001b[0m\u001b[0;34m(\u001b[0m\u001b[0;34m(\u001b[0m\u001b[0mname_or_ordinal\u001b[0m\u001b[0;34m,\u001b[0m \u001b[0mself\u001b[0m\u001b[0;34m)\u001b[0m\u001b[0;34m)\u001b[0m\u001b[0;34m\u001b[0m\u001b[0;34m\u001b[0m\u001b[0m\n\u001b[0m\u001b[1;32m    395\u001b[0m         \u001b[0;32mif\u001b[0m \u001b[0;32mnot\u001b[0m \u001b[0misinstance\u001b[0m\u001b[0;34m(\u001b[0m\u001b[0mname_or_ordinal\u001b[0m\u001b[0;34m,\u001b[0m \u001b[0mint\u001b[0m\u001b[0;34m)\u001b[0m\u001b[0;34m:\u001b[0m\u001b[0;34m\u001b[0m\u001b[0;34m\u001b[0m\u001b[0m\n\u001b[1;32m    396\u001b[0m             \u001b[0mfunc\u001b[0m\u001b[0;34m.\u001b[0m\u001b[0m__name__\u001b[0m \u001b[0;34m=\u001b[0m \u001b[0mname_or_ordinal\u001b[0m\u001b[0;34m\u001b[0m\u001b[0;34m\u001b[0m\u001b[0m\n",
            "\u001b[0;31mAttributeError\u001b[0m: /usr/bin/python3: undefined symbol: iio_get_backends_count"
          ]
        }
      ],
      "source": [
        "!pip install pyadi-iio\n",
        "import adi\n",
        "!pip install matplotlib\n",
        "!pip install scikit-dsp-comm\n",
        "!pip install scikit-commpy\n",
        "#------------------------------- Libraries -------------------------------\n",
        "import numpy as np\n",
        "import matplotlib.pyplot as plt\n",
        "\n",
        "#punto 5\n",
        "from scipy.stats import norm\n",
        "\n",
        "#punto 6\n",
        "!pip install statsmodels\n",
        "import statsmodels.api as sm\n",
        "import scipy.stats as stats"
      ]
    },
    {
      "cell_type": "code",
      "execution_count": null,
      "id": "e90ab294",
      "metadata": {
        "id": "e90ab294"
      },
      "outputs": [],
      "source": [
        "#------------------------------- SDR Parameter Configuration -------------------------------\n",
        "\n",
        "Uri = \"ip:192.168.1.33\"\n",
        "sdr = adi.Pluto(Uri)\n",
        "\n",
        "Loopback               = 0 # El loopback permite que la señal transmitida\n",
        "#se reciba nuevamente, lo cual no es deseado en este caso.\n",
        "sdr.loopback = Loopback\n",
        "\n",
        "\n",
        "#configuracion de ganancia del transmisor\n",
        "TxAtten = -70 #valor maximo de atenuacion\n",
        "sdr.tx_hardwaregain_chan0  = TxAtten # atenuacion, valid range is -90 to 0 dB [dB]\n",
        "\n",
        "#configuracion de ganancia del receptor\n",
        "RxHardwareGain     = 70\n",
        "sdr.rx_hardwaregain_chan0   = RxHardwareGain\n",
        "\n",
        "#configuracion de la frecuencia del transmisor\n",
        "TxLOFreq         = 918e6\n",
        "sdr.tx_lo = int(TxLOFreq)\n",
        "\n",
        "#configuracion de la frecuencia del receptor\n",
        "RxLOFreq         = TxLOFreq      # Carrier frequency of RX path [Hz]\n",
        "sdr.rx_lo = int(RxLOFreq) # Carrier frequency of RX path [Hz]\n",
        "\n",
        "#configuracion de ancho de banda de transmision\n",
        "TxRfBw           = 2.0e6\n",
        "sdr.tx_rf_bandwidth = int(TxRfBw)\n",
        "\n",
        "#configuracion de ancho de banda de recepcion\n",
        "RxRfBw           = 2.0e6\n",
        "sdr.rx_rf_bandwidth = int(RxRfBw)\n",
        "\n",
        "#configuracion de la frecuencia de muestreo\n",
        "samplingRate = 2.0e6  # Frecuencia de muestreo [Samples/Sec] samples=muestras\n",
        "sdr.sample_rate = int(samplingRate)\n",
        "\n",
        "#lectura de datos\n",
        "nSamples = 2**20  # Número de muestras a adquirir/recibir\n",
        "RxBufferSize = nSamples\n",
        "sdr.rx_buffer_size = RxBufferSize\n",
        "received_signal = sdr.rx()\n",
        "\n",
        "\n",
        "\n",
        "Tx_cyclic_buffer      = False\n",
        "GainControlModes = \"manual\"\n",
        "\n",
        "\n",
        "\n",
        "\n"
      ]
    },
    {
      "cell_type": "code",
      "execution_count": null,
      "id": "3269880e",
      "metadata": {
        "id": "3269880e"
      },
      "outputs": [],
      "source": [
        "# Configurar la señal de transmisión a cero (sin transmisión)\n",
        "\n",
        "\n",
        "\n",
        "señalrecibida = sdr.rx()  # Recibe la señal del SDR"
      ]
    },
    {
      "cell_type": "code",
      "execution_count": null,
      "id": "e5a954ae",
      "metadata": {
        "id": "e5a954ae"
      },
      "outputs": [],
      "source": [
        "#punto 1\n",
        "\n",
        "#calculo parte real e imaginaria de la señal\n",
        "parteRealSeñal=np.real(señalrecibida)\n",
        "parteImaginariaSeñal=np.imag(señalrecibida)\n",
        "\n",
        "#calculo la frecuencia de la señal\n",
        "frecuenciaR = np.fft.fftfreq(len(parteRealSeñal), d=1/samplingRate)\n",
        "frecuenciaI = np.fft.fftfreq(len(parteImaginariaSeñal), d=1/samplingRate)\n",
        "\n",
        "# Calculo la transformada rápida de Fourier  para la componente real e imaginaria\n",
        "transformadaFourierReal = np.fft.fft(parteRealSeñal)\n",
        "transformadaFourierImaginaria = np.fft.fft(parteImaginariaSeñal)\n",
        "\n",
        "# Función para graficar la señal en tiempo y frecuencia\n",
        "def plotSignal(señalrecibida, samplingRate):\n",
        "    # Grafica en el dominio del tiempo\n",
        "    plt.figure(figsize=(20,8), dpi=80, facecolor='w', edgecolor='k')\n",
        "\n",
        "\n",
        "    # Componente en fase (Real)\n",
        "    plt.subplot(2,1,1)\n",
        "    plt.plot(parteRealSeñal)\n",
        "    plt.xlabel('Muestra')\n",
        "    plt.ylabel('Amplitud')\n",
        "    plt.title('Componente en fase (Real) del ruido')\n",
        "    plt.grid()\n",
        "\n",
        "    # Componente en cuadratura (Imaginaria)\n",
        "    plt.subplot(2,1,2)\n",
        "    plt.plot(parteImaginariaSeñal)\n",
        "    plt.xlabel('Muestra')\n",
        "    plt.ylabel('Amplitud')\n",
        "    plt.title('Componente en cuadratura (Imaginaria) del ruido')\n",
        "    plt.grid()\n",
        "\n",
        "    plt.tight_layout()\n",
        "    plt.show()\n",
        "#########################################################################################################\n",
        "    # Grafica en el dominio de la frecuencia:\n",
        "    plt.figure(figsize=(20,8), dpi=80, facecolor='w', edgecolor='k')\n",
        "    # Graficar la magnitud de la FFT de la componente real (espectro de frecuencia)\n",
        "    plt.subplot(2,1,1)\n",
        "    plt.plot(frecuenciaR[:len(frecuenciaR)//2], np.abs(transformadaFourierReal)[:len(transformadaFourierReal)//2])\n",
        "    plt.xlabel('Frecuencia [Hz]')\n",
        "    plt.ylabel('Magnitud')\n",
        "    plt.title('Espectro de Frecuencia de la Componente Real')\n",
        "    plt.grid()\n",
        "    # Grafica de la magnitud de la FFT de la componente imaginaria (espectro de frecuencia)\n",
        "    plt.subplot(2,1,2)\n",
        "    plt.plot(frecuenciaI[:len(frecuenciaI)//2], np.abs(transformadaFourierImaginaria)[:len(transformadaFourierImaginaria)//2])\n",
        "    plt.xlabel('Frecuencia [Hz]')\n",
        "    plt.ylabel('Magnitud')\n",
        "    plt.title('Espectro de Frecuencia de la Componente Imaginaria')\n",
        "    plt.grid()\n",
        "    plt.tight_layout()\n",
        "    plt.show()\n",
        "\n",
        "# Recibe la señal del SDR cargada en 'rxSignal'\n",
        "# Grafica de las componentes real e imaginaria del ruido y el espectro de frecuencia por separado\n",
        "plotSignal(señalrecibida, samplingRate)"
      ]
    },
    {
      "cell_type": "code",
      "execution_count": null,
      "id": "7643f100",
      "metadata": {
        "id": "7643f100"
      },
      "outputs": [],
      "source": [
        "#punto 2\n",
        "#  Obtener la media y la varianza.\n",
        "N = len(señalrecibida)  # Número de muestras\n",
        "##############################################################\n",
        "# Calcular la media de la parte real de la señal\n",
        "sum_real = 0\n",
        "for i in range(N):\n",
        "    sum_real += parteRealSeñal[i]\n",
        "mediaParteReal = sum_real / N  # Media de la parte real\n",
        "##############################################################\n",
        "# Calcular la varianza de la parte real de la señal\n",
        "sumaDiferenciaCuadradoReal = 0\n",
        "for i in range(N):\n",
        "    sumaDiferenciaCuadradoReal += (parteRealSeñal[i] - mediaParteReal) ** 2\n",
        "varianzaParteReal = sum_squared_diff_real / N  # Varianza de la parte real\n",
        "##############################################################\n",
        "# Calcular la media de la parte imaginaria de la señal\n",
        "sum_imag = 0\n",
        "for i in range(N):\n",
        "    sum_imag += parteImaginariaSeñal[i]\n",
        "mediaParteImaginaria = sum_imag / N  # Media de la parte imaginaria\n",
        "##############################################################\n",
        "# Calcular la varianza de la parte imaginaria de la señal\n",
        "sumaDiferenciaCuadradoImaginaria = 0\n",
        "for i in range(N):\n",
        "    sumaDiferenciaCuadradoImaginaria += (parteImaginariaSeñal[i] - mediaParteImaginaria) ** 2\n",
        "varianzaParteImaginaria = sumaDiferenciaCuadradoImaginaria / N  # Varianza de la parte imaginaria\n",
        "##############################################################\n",
        "# Imprimir los resultados\n",
        "print(f\"Media Parte Real: {mediaParteReal}\")\n",
        "print(f\"Varianza Parte Real: {varianzaParteReal}\")\n",
        "print(f\"Media Parte Imaginaria: {mediaParteImaginaria}\")\n",
        "print(f\"Varianza Parte Imaginaria: {varianzaParteImaginaria}\")\n"
      ]
    },
    {
      "cell_type": "code",
      "execution_count": null,
      "id": "ef39378e",
      "metadata": {
        "id": "ef39378e"
      },
      "outputs": [],
      "source": [
        "# Graficar el histograma\n",
        "\n",
        "#punto 3\n",
        "\n",
        "def plotHistogram(señalrecibida, bins=500):\n",
        "    plt.figure(figsize=(10,6))\n",
        "    plt.subplot(2,1,1)\n",
        "    plt.hist(parteRealSeñal, bins=bins, density=True, alpha=0.5, label='Componente Real')\n",
        "    plt.xlabel('Amplitud')\n",
        "    plt.ylabel('Frecuencia')\n",
        "    plt.title('Histograma de la señal parte real')\n",
        "    plt.legend(loc='best')\n",
        "    plt.grid()\n",
        "    plt.show()\n",
        "\n",
        "    plt.figure(figsize=(10,6))\n",
        "    plt.subplot(2,1,1)\n",
        "    plt.hist(parteImaginariaSeñal, bins=bins, density=True, alpha=0.5, label='Componente Imaginaria')\n",
        "    plt.xlabel('Amplitud')\n",
        "    plt.ylabel('Frecuencia')\n",
        "    plt.title('Histograma de la señal parte imaginaria')\n",
        "    plt.legend(loc='best')\n",
        "    plt.grid()\n",
        "    plt.show()\n",
        "\n",
        "#grafica  del histograma\n",
        "plotHistogram(señalrecibida)\n"
      ]
    },
    {
      "cell_type": "code",
      "execution_count": null,
      "id": "b8fe538c",
      "metadata": {
        "id": "b8fe538c"
      },
      "outputs": [],
      "source": [
        "#punto 5\n",
        "# Superponer el histograma normalizado con una función de densidad de probabilidad (PDF) gaussiana teórica.\n",
        "\n",
        "def plotHistogramWithPDF(signal):\n",
        "    # Estimación de los parámetros de la gaussiana para la componente real\n",
        "    mean_real = np.mean(np.real(signal))\n",
        "    std_real = np.std(np.real(signal))\n",
        "\n",
        "    # Estimación de los parámetros de la gaussiana para la componente imaginaria\n",
        "    mean_imag = np.mean(np.imag(signal))\n",
        "    std_imag = np.std(np.imag(signal))\n",
        "\n",
        "    # Grafica del  histograma para la componente real e imaginaria\n",
        "    plt.figure(figsize=(10,6))\n",
        "    plt.hist(np.real(signal), bins=100, density=True, alpha=0.5, label='Componente Real')\n",
        "    plt.hist(np.imag(signal), bins=100, density=True, alpha=0.5, label='Componente Imaginaria')\n",
        "\n",
        "    # Función de densidad de probabilidad  gaussiana teórica para la componente real\n",
        "    x_real = np.linspace(np.min(np.real(signal)), np.max(np.real(signal)), 1000)\n",
        "    pdf_real = norm.pdf(x_real, mean_real, std_real)\n",
        "    plt.plot(x_real, pdf_real, label='PDF Gaussiana Teórica (Real)', color='black', linewidth=2)\n",
        "\n",
        "    # Función de densidad de probabilidad gaussiana teórica para la componente imaginaria\n",
        "    x_imag = np.linspace(np.min(np.imag(signal)), np.max(np.imag(signal)), 1000)\n",
        "    pdf_imag = norm.pdf(x_imag, mean_imag, std_imag)\n",
        "    plt.plot(x_imag, pdf_imag, label='PDF Gaussiana Teórica (Imaginaria)', color='red', linewidth=2)\n",
        "\n",
        "    plt.xlabel('Amplitud')\n",
        "    plt.ylabel('Frecuencia')\n",
        "    plt.title('Histograma con PDF Gaussiana Teórica')\n",
        "    plt.legend(loc='best')\n",
        "    plt.grid()\n",
        "    plt.show()\n",
        "\n",
        "# Llamar a la función para graficar\n",
        "plotHistogramWithPDF(rxSignal)\n"
      ]
    },
    {
      "cell_type": "code",
      "execution_count": null,
      "id": "0fb7268b",
      "metadata": {
        "id": "0fb7268b"
      },
      "outputs": [],
      "source": [
        "#punto 6\n",
        "#Analizar la gaussianidad mediante un gráfico Q-Q haciendo uso de la función propia de python \"qqplot\".\n",
        "\n",
        "def plotQQPlot(signal):\n",
        "    sm.qqplot(np.real(signal), line ='45')\n",
        "    plt.title('Q-Q Plot Componente Real')\n",
        "    plt.grid()\n",
        "    plt.show()\n",
        "\n",
        "    sm.qqplot(np.imag(signal), line ='45')\n",
        "    plt.title('Q-Q Plot Componente Imaginaria')\n",
        "    plt.grid()\n",
        "    plt.show()\n",
        "\n",
        "# Llamar a la función para el gráfico Q-Q\n",
        "plotQQPlot(rxSignal)"
      ]
    },
    {
      "cell_type": "code",
      "execution_count": null,
      "id": "baa9a323",
      "metadata": {
        "id": "baa9a323"
      },
      "outputs": [],
      "source": [
        "#punto 7\n",
        "# Generar mediante un código, una variable gaussiana compleja que tenga la misma media\n",
        "# y varianza que la señal muestreada y obtener su gráfica temporal,\n",
        "# su gráfica en frecuencia y su histograma.\n",
        "\n",
        "# Función para graficar la señal en el tiempo y en la frecuencia\n",
        "def plotSignalTimeFreq(signal, samplingRate):\n",
        "    # Grafica de la señal en el tiempo\n",
        "    plt.figure(figsize=(10, 6))\n",
        "    plt.subplot(2, 1, 1)\n",
        "    plt.plot(np.real(signal), label=\"Componente Real\")\n",
        "    plt.plot(np.imag(signal), label=\"Componente Imaginaria\")\n",
        "    plt.xlabel('Muestra')\n",
        "    plt.ylabel('Amplitud')\n",
        "    plt.title('Señal Gaussiana Compleja en el Tiempo')\n",
        "    plt.legend()\n",
        "    plt.grid()\n",
        "\n",
        "    # Grafica de la señal en el dominio de frecuencia\n",
        "    plt.subplot(2, 1, 2)\n",
        "    # Transformada de Fourier\n",
        "    signal_freq = np.fft.fft(signal)\n",
        "    freq = np.fft.fftfreq(len(signal), d=1/samplingRate)\n",
        "    # Grafica de la magnitud en frecuencia\n",
        "    plt.plot(freq[:len(freq)//2], np.abs(signal_freq)[:len(signal_freq)//2])\n",
        "    plt.xlabel('Frecuencia [Hz]')\n",
        "    plt.ylabel('Magnitud')\n",
        "    plt.title('Espectro de Frecuencia de la Señal Gaussiana Compleja')\n",
        "    plt.grid()\n",
        "\n",
        "    plt.tight_layout()\n",
        "    plt.show()\n",
        "# Calcular la media y varianza para la parte real e imaginaria\n",
        "#modificar para calcularlo con formula y no codigo\n",
        "mean_real = np.mean(np.real(rxSignal))\n",
        "std_real = np.std(np.real(rxSignal))\n",
        "mean_imag = np.mean(np.imag(rxSignal))\n",
        "std_imag = np.std(np.imag(rxSignal))\n",
        "\n",
        "# Generar señal gaussiana compleja con la misma media y varianza que la señal muestreada\n",
        "#utilice funcion. preguntar si debo calcular de formula\n",
        "complex_gaussian_signal = np.random.normal(mean_real, std_real, nSamples) + 1j * np.random.normal(mean_imag, std_imag, nSamples)\n",
        "\n",
        "# Grafica de la  señal gaussiana compleja en el tiempo y frecuencia\n",
        "plotSignalTimeFreq(complex_gaussian_signal, samplingRate)\n",
        "\n",
        "# Grafica del  histograma de la señal compleja\n",
        "plotHistogram(complex_gaussian_signal)\n"
      ]
    },
    {
      "cell_type": "code",
      "execution_count": null,
      "id": "cb4c3255",
      "metadata": {
        "id": "cb4c3255"
      },
      "outputs": [],
      "source": []
    },
    {
      "cell_type": "code",
      "execution_count": null,
      "id": "d397abd9",
      "metadata": {
        "id": "d397abd9"
      },
      "outputs": [],
      "source": []
    },
    {
      "cell_type": "code",
      "execution_count": null,
      "id": "44ad43ee",
      "metadata": {
        "id": "44ad43ee"
      },
      "outputs": [],
      "source": []
    },
    {
      "cell_type": "code",
      "execution_count": null,
      "id": "871491c5",
      "metadata": {
        "id": "871491c5"
      },
      "outputs": [],
      "source": []
    }
  ],
  "metadata": {
    "celltoolbar": "Raw Cell Format",
    "kernelspec": {
      "display_name": "Python 3 (ipykernel)",
      "language": "python",
      "name": "python3"
    },
    "language_info": {
      "codemirror_mode": {
        "name": "ipython",
        "version": 3
      },
      "file_extension": ".py",
      "mimetype": "text/x-python",
      "name": "python",
      "nbconvert_exporter": "python",
      "pygments_lexer": "ipython3",
      "version": "3.9.7"
    },
    "colab": {
      "provenance": [],
      "include_colab_link": true
    }
  },
  "nbformat": 4,
  "nbformat_minor": 5
}